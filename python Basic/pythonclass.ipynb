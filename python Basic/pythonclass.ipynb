{
 "cells": [
  {
   "cell_type": "code",
   "execution_count": 1,
   "id": "b85491ec",
   "metadata": {},
   "outputs": [
    {
     "name": "stdout",
     "output_type": "stream",
     "text": [
      "sum= 5\n",
      "hello\n"
     ]
    }
   ],
   "source": [
    "class example:\n",
    "    def __init__(self,a,b):\n",
    "        d=a+b\n",
    "        print(\"sum=\",d)\n",
    "        print(\"hello\")\n",
    "\n",
    "c=example(2,3)        \n",
    "        "
   ]
  },
  {
   "cell_type": "code",
   "execution_count": 2,
   "id": "5d417339",
   "metadata": {},
   "outputs": [
    {
     "name": "stdout",
     "output_type": "stream",
     "text": [
      "blu is a bird\n",
      "woo is also bird\n",
      "Blu is 10 years old\n",
      "woo is 6 years old\n"
     ]
    }
   ],
   "source": [
    "class parrot:\n",
    "    species=\"bird\"\n",
    "    \n",
    "    def __init__(self,name,age):\n",
    "        self.name=name\n",
    "        self.age=age\n",
    "blu=parrot(\"Blu\",10)\n",
    "woo=parrot(\"woo\",6)\n",
    "\n",
    "\n",
    "print(\"blu is a {}\".format(blu.__class__.species))\n",
    "print(\"woo is also {}\".format(woo.__class__.species))\n",
    "\n",
    "\n",
    "\n",
    "print(\"{} is {} years old\".format(blu.name,blu.age))\n",
    "print(\"{} is {} years old\".format(woo.name,woo.age))\n"
   ]
  },
  {
   "cell_type": "code",
   "execution_count": 3,
   "id": "3fd66523",
   "metadata": {},
   "outputs": [
    {
     "name": "stdout",
     "output_type": "stream",
     "text": [
      "name=maya age=13 mark=98\n",
      "age is 13 \n",
      "marks=98\n"
     ]
    }
   ],
   "source": [
    "class student:\n",
    "    \n",
    "    def __init__(self,name,age,mark):\n",
    "        self.name=name\n",
    "        self.age=age\n",
    "        self.mark=mark\n",
    "    def display(self):\n",
    "        print(\"name={} age={} mark={}\".format(self.name,self.age,self.mark))\n",
    "    def setAge(self):\n",
    "        print(\"age is {} \".format(self.age))\n",
    "    def setMark(self):\n",
    "        print(\"marks={}\".format(self.mark))\n",
    "\n",
    "l=student(\"riya\",14,78)\n",
    "l=student(\"maya\",13,98)\n",
    "\n",
    "l.display()\n",
    "l.setAge()\n",
    "l.setMark()"
   ]
  },
  {
   "cell_type": "code",
   "execution_count": 4,
   "id": "6f54b2a1",
   "metadata": {},
   "outputs": [
    {
     "name": "stdout",
     "output_type": "stream",
     "text": [
      "name:John age:24\n"
     ]
    },
    {
     "data": {
      "text/plain": [
       "__main__.employee"
      ]
     },
     "execution_count": 4,
     "metadata": {},
     "output_type": "execute_result"
    }
   ],
   "source": [
    "class employee:\n",
    "    def __init__(self,name,age):\n",
    "        self.name=name\n",
    "        self.age=age\n",
    "a=employee(\"John\",24)\n",
    "print(\"name:{} age:{}\".format(a.name,a.age))\n",
    "type(a)\n",
    "        \n",
    "\n"
   ]
  },
  {
   "cell_type": "code",
   "execution_count": 5,
   "id": "5afe96cb",
   "metadata": {},
   "outputs": [
    {
     "name": "stdout",
     "output_type": "stream",
     "text": [
      "hello\n"
     ]
    }
   ],
   "source": [
    "class vehicle:\n",
    "    print(\"hello\")\n",
    "s=vehicle()\n"
   ]
  },
  {
   "cell_type": "code",
   "execution_count": 6,
   "id": "676639ce",
   "metadata": {},
   "outputs": [
    {
     "name": "stdout",
     "output_type": "stream",
     "text": [
      "name:ayisha age:44\n"
     ]
    }
   ],
   "source": [
    "class student:\n",
    "    def __init__(self,name):\n",
    "        self.name=name\n",
    "    def setAge(self,age):\n",
    "        self.age=age\n",
    "    def display(self):\n",
    "        print(\"name:{} age:{}\".format(self.name,self.age))\n",
    "a=student(\"ayisha\")\n",
    "a.setAge(44)\n",
    "a.display()"
   ]
  },
  {
   "cell_type": "code",
   "execution_count": 1,
   "id": "8288e294",
   "metadata": {},
   "outputs": [
    {
     "name": "stdout",
     "output_type": "stream",
     "text": [
      "enter your name:eva\n",
      "output is eva\n"
     ]
    }
   ],
   "source": [
    "class inputs:\n",
    "    def __init__(self):\n",
    "        self.string= \"\"\n",
    "    def get(self):\n",
    "        self.string=input(\"enter your name:\")\n",
    "    def output(self):\n",
    "        print(\"output is {}\".format(self.string))\n",
    "i=inputs() \n",
    "i.get()\n",
    "i.output()\n",
    "        "
   ]
  },
  {
   "cell_type": "code",
   "execution_count": 4,
   "id": "e73fe326",
   "metadata": {},
   "outputs": [
    {
     "name": "stdout",
     "output_type": "stream",
     "text": [
      "area of rectangle is : 6\n"
     ]
    }
   ],
   "source": [
    "class area:\n",
    "    def __init__(self,l,b):\n",
    "        self.l=l\n",
    "        self.b=b\n",
    "        a=l*b\n",
    "        print(\"area of rectangle is :\",a)\n",
    "ar=area(2,3)\n"
   ]
  },
  {
   "cell_type": "code",
   "execution_count": 8,
   "id": "47c74a4c",
   "metadata": {},
   "outputs": [
    {
     "name": "stdout",
     "output_type": "stream",
     "text": [
      "sum =  6\n",
      "difference =  2\n",
      "product =  8\n",
      "division =  2.0\n"
     ]
    }
   ],
   "source": [
    "class calc:\n",
    "    def __init__(self,a,b):\n",
    "        self.a=a\n",
    "        self.b=b\n",
    "    def add(self):\n",
    "        ad=self.a+self.b\n",
    "        print(\"sum = \",ad)\n",
    "    def dif(self):\n",
    "        d=self.a-self.b\n",
    "        print(\"difference = \",d)  \n",
    "    def mul(self):\n",
    "        m=self.a*self.b\n",
    "        print(\"product = \",m)  \n",
    "    def div(self):\n",
    "        if (self.b != 0):\n",
    "            dv=self.a/self.b\n",
    "            print(\"division = \",dv)\n",
    "        else:\n",
    "            print(\"division by 0 not possible\")\n",
    "            \n",
    "c=calc(4,2)\n",
    "c.add()\n",
    "c.dif()\n",
    "c.mul()\n",
    "c.div()"
   ]
  },
  {
   "cell_type": "code",
   "execution_count": 13,
   "id": "afd54020",
   "metadata": {},
   "outputs": [
    {
     "name": "stdout",
     "output_type": "stream",
     "text": [
      "Bird is ready\n",
      "penguin is ready\n",
      "penguin\n",
      "swim faster\n",
      "Run faster\n"
     ]
    }
   ],
   "source": [
    "class Bird:\n",
    "    \n",
    "    def __init__(self):\n",
    "        print(\"Bird is ready\")\n",
    "    def whoisThis(self):\n",
    "        print(\"Bird\")\n",
    "       \n",
    "    def swim(self):\n",
    "        print(\"swim faster\")\n",
    "        \n",
    "        \n",
    "class Penguin(Bird):\n",
    "    \n",
    "    def __init__(self):\n",
    "        super().__init__()\n",
    "        print(\"penguin is ready\")\n",
    "    def whoisThis(self):\n",
    "        print(\"penguin\")\n",
    "    def run(self):\n",
    "        print(\"Run faster\")\n",
    "        \n",
    "peggy=Penguin()\n",
    "peggy.whoisThis()\n",
    "peggy.swim()\n",
    "peggy.run()"
   ]
  },
  {
   "cell_type": "code",
   "execution_count": 14,
   "id": "04dd6b65",
   "metadata": {},
   "outputs": [
    {
     "name": "stdout",
     "output_type": "stream",
     "text": [
      "vehicle\n",
      "Car\n",
      "Red\n",
      "32km\n"
     ]
    }
   ],
   "source": [
    "class Vehicle:\n",
    "    def __init__(self):\n",
    "        print(\"vehicle\")\n",
    "class Car(Vehicle):\n",
    "    def __init__(self):\n",
    "        super().__init__()\n",
    "        print(\"Car\")\n",
    "    def colour(self):\n",
    "        print(\"Red\")\n",
    "    def milage(self):\n",
    "        print(\"32km\")\n",
    "        \n",
    "        \n",
    "        \n",
    "obj=Car()\n",
    "obj.colour()\n",
    "obj.milage()\n",
    "    \n",
    "        "
   ]
  },
  {
   "cell_type": "code",
   "execution_count": 23,
   "id": "32640aa0",
   "metadata": {},
   "outputs": [
    {
     "name": "stdout",
     "output_type": "stream",
     "text": [
      "this is animal\n",
      "This is Dog\n",
      "This is puppy\n",
      "this is animal\n",
      "This is Dog\n",
      "barking\n",
      "barking softly\n"
     ]
    }
   ],
   "source": [
    "class Animal:\n",
    "    def __init__(self):\n",
    "        print('this is animal')\n",
    "class Dog(Animal):\n",
    "    def __init__(self):\n",
    "        super().__init__()\n",
    "        print(\"This is Dog\")\n",
    "        \n",
    "    def speak(self):\n",
    "        print(\"barking\")\n",
    "        \n",
    "class puppy(Dog):\n",
    "    def __init__(self):\n",
    "        super().__init__()\n",
    "        print(\"This is puppy\")\n",
    "        \n",
    "        \n",
    "    def speak(self):\n",
    "        print(\"barking softly\")\n",
    "o=puppy()\n",
    "b=Dog()\n",
    "b.speak()\n",
    "o.speak()"
   ]
  },
  {
   "cell_type": "code",
   "execution_count": 25,
   "id": "61459dd4",
   "metadata": {},
   "outputs": [
    {
     "name": "stdout",
     "output_type": "stream",
     "text": [
      "sum= 5\n",
      "Product = 6\n",
      "division =  0.6666666666666666\n"
     ]
    }
   ],
   "source": [
    "class Calculation1:\n",
    "    def summation(self,a,b):\n",
    "        print(\"sum=\",a+b)\n",
    "class Calculation2:\n",
    "    def multiplication(self,a,b):\n",
    "        print(\"Product =\",a*b)\n",
    "class Calculation3(Calculation1,Calculation2):\n",
    "    def division(self,a,b):\n",
    "        print(\"division = \",a/b)\n",
    "o=Calculation3()\n",
    "o.summation(2,3)\n",
    "o.multiplication(2,3)\n",
    "o.division(2,3)\n",
    "        "
   ]
  },
  {
   "cell_type": "code",
   "execution_count": 26,
   "id": "3fb0bc68",
   "metadata": {},
   "outputs": [
    {
     "name": "stdout",
     "output_type": "stream",
     "text": [
      "Hello........\n"
     ]
    }
   ],
   "source": [
    "class Happy:\n",
    "    def __init__(self):\n",
    "        print(\"Hello........\")\n",
    "\n",
    "o=Happy()        "
   ]
  },
  {
   "cell_type": "code",
   "execution_count": 27,
   "id": "8760816f",
   "metadata": {},
   "outputs": [
    {
     "name": "stdout",
     "output_type": "stream",
     "text": [
      "hi.........Iam here\n"
     ]
    }
   ],
   "source": [
    "class Vehicle:\n",
    "    print(\"hi.........Iam here\")\n",
    "    \n",
    "o=Vehicle()    "
   ]
  },
  {
   "cell_type": "code",
   "execution_count": 32,
   "id": "7e91ad03",
   "metadata": {},
   "outputs": [
    {
     "name": "stdout",
     "output_type": "stream",
     "text": [
      "Vehicle\n",
      "Bus\n",
      "here is colour\n",
      "Red\n",
      "here is milage\n",
      "milage = 30\n",
      "milage after = 40\n"
     ]
    }
   ],
   "source": [
    "class Vehicle:\n",
    "    def __init__(self):\n",
    "        print(\"Vehicle\")\n",
    "    def colour(self):\n",
    "        print(\"here is colour\")\n",
    "    def milage(self,a):\n",
    "        self.a=a\n",
    "        self.b=self.a+10\n",
    "        print(\"here is milage\")\n",
    "        \n",
    "class Bus(Vehicle):\n",
    "    def __init__(self):\n",
    "        super().__init__()\n",
    "        print(\"Bus\")\n",
    "    def colour(self):\n",
    "        super().colour()\n",
    "        print(\"Red\")\n",
    "    def milage(self,a):\n",
    "        super().milage(a)\n",
    "        print(\"milage =\",a)\n",
    "        print(\"milage after =\",self.b)\n",
    "        \n",
    "        \n",
    "o=Bus()\n",
    "o.colour()\n",
    "o.milage(30)\n",
    "\n",
    "        "
   ]
  },
  {
   "cell_type": "code",
   "execution_count": null,
   "id": "67be53f1",
   "metadata": {},
   "outputs": [],
   "source": []
  }
 ],
 "metadata": {
  "kernelspec": {
   "display_name": "Python 3 (ipykernel)",
   "language": "python",
   "name": "python3"
  },
  "language_info": {
   "codemirror_mode": {
    "name": "ipython",
    "version": 3
   },
   "file_extension": ".py",
   "mimetype": "text/x-python",
   "name": "python",
   "nbconvert_exporter": "python",
   "pygments_lexer": "ipython3",
   "version": "3.9.12"
  }
 },
 "nbformat": 4,
 "nbformat_minor": 5
}
