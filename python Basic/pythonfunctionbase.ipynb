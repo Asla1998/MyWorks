{
 "cells": [
  {
   "cell_type": "code",
   "execution_count": 7,
   "id": "43a35514",
   "metadata": {},
   "outputs": [
    {
     "name": "stdout",
     "output_type": "stream",
     "text": [
      "{'asla', '12', '1', 'rayan'}\n",
      "{'asla', '12', '1', 'rayan', 'ren', 'farha', '4'}\n",
      "{'asla', '12', '1', 1, 'rayan', 2, 3.4}\n"
     ]
    },
    {
     "data": {
      "text/plain": [
       "set"
      ]
     },
     "execution_count": 7,
     "metadata": {},
     "output_type": "execute_result"
    }
   ],
   "source": [
    "s1={\"asla\",\"1\",\"rayan\",\"12\"}\n",
    "s2={\"farha\",\"4\",\"ren\"}\n",
    "s3={1,2,3.4}\n",
    "print(s1)\n",
    "print(s1.union(s2))\n",
    "s1.update(s3)\n",
    "print(s1)\n",
    "type(s1)"
   ]
  },
  {
   "cell_type": "code",
   "execution_count": 13,
   "id": "ec42c033",
   "metadata": {},
   "outputs": [
    {
     "name": "stdout",
     "output_type": "stream",
     "text": [
      "hello asla\n",
      "hello farha\n"
     ]
    }
   ],
   "source": [
    "def myfunction(name):\n",
    "   print(\"hello \" + name)\n",
    "\n",
    "\n",
    "myfunction(\"asla\")\n",
    "myfunction(\"farha\")"
   ]
  },
  {
   "cell_type": "code",
   "execution_count": 15,
   "id": "d61ea8b6",
   "metadata": {},
   "outputs": [
    {
     "name": "stdout",
     "output_type": "stream",
     "text": [
      "name: rayan\n",
      "salary:  10000\n",
      "name: abi\n",
      "salary:  20000\n",
      "name: riya\n",
      "salary:  9000\n"
     ]
    }
   ],
   "source": [
    "def showEmployee(name,salary=9000):\n",
    "    print(\"name: \"+ name)\n",
    "    print(\"salary: \", salary)\n",
    "showEmployee(\"rayan\",10000)\n",
    "showEmployee(\"abi\",20000)\n",
    "showEmployee(\"riya\")\n",
    "    "
   ]
  },
  {
   "cell_type": "code",
   "execution_count": 20,
   "id": "0c7cfd3b",
   "metadata": {},
   "outputs": [
    {
     "name": "stdout",
     "output_type": "stream",
     "text": [
      "sum=  9\n",
      "product= 20\n"
     ]
    }
   ],
   "source": [
    "\n",
    "def calculation(a,b):\n",
    "    return a+b,a*b\n",
    "s,m=calculation(4,5)\n",
    "print(\"sum= \",s)\n",
    "print(\"product=\",m)"
   ]
  },
  {
   "cell_type": "code",
   "execution_count": 25,
   "id": "386dea8c",
   "metadata": {},
   "outputs": [
    {
     "name": "stdout",
     "output_type": "stream",
     "text": [
      "sum of list = 60\n"
     ]
    }
   ],
   "source": [
    "def sum(l):\n",
    "    s=0\n",
    "    for i in l:\n",
    "        s=s+i\n",
    "    return s    \n",
    "\n",
    "list=[2,4,6,8,12,1,3,7,17]\n",
    "print(\"sum of list =\",sum(list))"
   ]
  },
  {
   "cell_type": "code",
   "execution_count": 29,
   "id": "b5e37897",
   "metadata": {},
   "outputs": [
    {
     "name": "stdout",
     "output_type": "stream",
     "text": [
      "Largest of list = 17\n"
     ]
    }
   ],
   "source": [
    "def large(l):\n",
    "    max=l[0]\n",
    "    for i in l:\n",
    "            if i>max:\n",
    "               max=i\n",
    "            \n",
    "    return max  \n",
    "\n",
    "list=[2,4,6,8,12,1,3,7,17]\n",
    "print(\"Largest of list =\",large(list))"
   ]
  },
  {
   "cell_type": "code",
   "execution_count": 32,
   "id": "81dc3690",
   "metadata": {},
   "outputs": [
    {
     "name": "stdout",
     "output_type": "stream",
     "text": [
      "smallest of list = 1\n"
     ]
    }
   ],
   "source": [
    "def small(l):\n",
    "    min=l[0]\n",
    "    for i in l:\n",
    "            if i<min:\n",
    "               min=i\n",
    "            \n",
    "    return min  \n",
    "\n",
    "list=[2,4,6,8,12,1,3,7,17]\n",
    "print(\"smallest of list =\",small(list))"
   ]
  },
  {
   "cell_type": "code",
   "execution_count": 35,
   "id": "b1fe313e",
   "metadata": {},
   "outputs": [
    {
     "name": "stdout",
     "output_type": "stream",
     "text": [
      "Empty list\n"
     ]
    }
   ],
   "source": [
    "list=[2,4,6,8,12,1,3,7,17]\n",
    "l=len(list)\n",
    "if l==0:\n",
    "    print(\"Empty list\")\n",
    "else:\n",
    "    print(\"The list is not empty\")"
   ]
  },
  {
   "cell_type": "code",
   "execution_count": 38,
   "id": "39138068",
   "metadata": {},
   "outputs": [
    {
     "name": "stdout",
     "output_type": "stream",
     "text": [
      "copied list  [2, 4, 6, 8, 12, 1, 3, 7, 17]\n"
     ]
    }
   ],
   "source": [
    "list=[2,4,6,8,12,1,3,7,17]\n",
    "l=list.copy()\n",
    "print(\"copied list \",l)"
   ]
  },
  {
   "cell_type": "code",
   "execution_count": 39,
   "id": "684289f9",
   "metadata": {},
   "outputs": [
    {
     "name": "stdout",
     "output_type": "stream",
     "text": [
      "Index of list  2\n"
     ]
    }
   ],
   "source": [
    "list=[2,4,6,8,12,1,3,7,17]\n",
    "l=list.index(6)\n",
    "print(\"Index of list \",l)"
   ]
  },
  {
   "cell_type": "code",
   "execution_count": 41,
   "id": "19708c51",
   "metadata": {},
   "outputs": [
    {
     "name": "stdout",
     "output_type": "stream",
     "text": [
      "appended list  [1, 2, 3, [4, 5, 6]]\n"
     ]
    }
   ],
   "source": [
    "l1=[1,2,3]\n",
    "l2=[4,5,6]\n",
    "l1.append(l2)\n",
    "print(\"appended list \",l1)"
   ]
  },
  {
   "cell_type": "code",
   "execution_count": 44,
   "id": "bb41ab24",
   "metadata": {},
   "outputs": [
    {
     "name": "stdout",
     "output_type": "stream",
     "text": [
      "1\n",
      "2\n",
      "3\n",
      "4\n",
      "5\n",
      "7\n",
      "8\n",
      "6\n",
      "None\n"
     ]
    }
   ],
   "source": [
    "def unique(list):\n",
    "    uni_list=[]\n",
    "    for i in list:\n",
    "        if i not in uni_list:\n",
    "            uni_list.append(i)\n",
    "    for i in uni_list:\n",
    "        print(i)\n",
    "l=[1,2,1,3,4,2,5,7,2,5,2,4,7,8,6,5]\n",
    "print(unique(l))\n"
   ]
  },
  {
   "cell_type": "code",
   "execution_count": 46,
   "id": "f0e18177",
   "metadata": {},
   "outputs": [
    {
     "name": "stdout",
     "output_type": "stream",
     "text": [
      "1\n",
      "2\n",
      "4\n",
      "5\n",
      "7\n",
      "None\n"
     ]
    }
   ],
   "source": [
    "def common(list):\n",
    "    com_list=[]\n",
    "    for i in list:\n",
    "        if list.count(i)>1:\n",
    "            if i not in com_list:\n",
    "                com_list.append(i)\n",
    "    for i in com_list:\n",
    "        print(i)\n",
    "l=[1,2,1,3,4,2,5,7,2,5,2,4,7,8,6,5]\n",
    "print(common(l))    \n",
    "    "
   ]
  },
  {
   "cell_type": "code",
   "execution_count": 48,
   "id": "d35cadcd",
   "metadata": {},
   "outputs": [
    {
     "name": "stdout",
     "output_type": "stream",
     "text": [
      "{2, 3}\n"
     ]
    }
   ],
   "source": [
    "l1=set([1,2,3])\n",
    "l2=set([2,3,4])\n",
    "print(l1.intersection(l2))\n",
    "    "
   ]
  },
  {
   "cell_type": "code",
   "execution_count": 49,
   "id": "0ef50406",
   "metadata": {},
   "outputs": [
    {
     "name": "stdout",
     "output_type": "stream",
     "text": [
      "{1, 2, 3, 4, 5, 6, 7, 8}\n"
     ]
    }
   ],
   "source": [
    "l=set([1,2,1,3,4,2,5,7,2,5,2,4,7,8,6,5])\n",
    "print(l)"
   ]
  },
  {
   "cell_type": "code",
   "execution_count": 50,
   "id": "c78c3026",
   "metadata": {},
   "outputs": [
    {
     "name": "stdout",
     "output_type": "stream",
     "text": [
      "1\n",
      "3\n",
      "5\n",
      "7\n",
      "9\n"
     ]
    }
   ],
   "source": [
    "l=[1,2,3,4,5,6,7,8,9]\n",
    "for i in l:\n",
    "    if i%2 != 0:\n",
    "        print(i)"
   ]
  },
  {
   "cell_type": "code",
   "execution_count": 59,
   "id": "b504dfe0",
   "metadata": {},
   "outputs": [
    {
     "name": "stdout",
     "output_type": "stream",
     "text": [
      "1 2 3 4 5 6 7 8 9\n"
     ]
    }
   ],
   "source": [
    "l=[1,2,3,4,5,6,7,8,9]\n",
    "print(' '.join(str(i) for i in l))"
   ]
  },
  {
   "cell_type": "raw",
   "id": "9d37b5f9",
   "metadata": {},
   "source": [
    "str=\"aslahafarha\"\n",
    "print(list[str])"
   ]
  },
  {
   "cell_type": "code",
   "execution_count": 68,
   "id": "4ca2eeac",
   "metadata": {},
   "outputs": [
    {
     "name": "stdout",
     "output_type": "stream",
     "text": [
      "['asla', 'ha', 'fa', 'rha']\n"
     ]
    }
   ],
   "source": [
    "str=\"asla ha fa rha\"\n",
    "l=str.split()\n",
    "print(l)\n"
   ]
  },
  {
   "cell_type": "code",
   "execution_count": 69,
   "id": "9529ad98",
   "metadata": {},
   "outputs": [
    {
     "name": "stdout",
     "output_type": "stream",
     "text": [
      "rha\n",
      "la\n",
      "fa\n",
      "as\n"
     ]
    }
   ],
   "source": [
    "s={\"as\",\"la\",\"fa\",\"rha\"}\n",
    "for i in s:\n",
    "    print(i)"
   ]
  },
  {
   "cell_type": "code",
   "execution_count": 72,
   "id": "443fad6b",
   "metadata": {},
   "outputs": [
    {
     "name": "stdout",
     "output_type": "stream",
     "text": [
      "{'rha', 'riya', 'la', 'as', 'fa'}\n"
     ]
    }
   ],
   "source": [
    "s={\"as\",\"la\",\"fa\",\"rha\"}\n",
    "s.add(\"riya\")\n",
    "print(s)"
   ]
  },
  {
   "cell_type": "code",
   "execution_count": 77,
   "id": "23badcb1",
   "metadata": {},
   "outputs": [
    {
     "name": "stdout",
     "output_type": "stream",
     "text": [
      "{'rha', 'la', 'fa'}\n"
     ]
    }
   ],
   "source": [
    "s={\"as\",\"la\",\"fa\",\"rha\"}\n",
    "s.remove(\"as\")\n",
    "print(s)"
   ]
  },
  {
   "cell_type": "code",
   "execution_count": 92,
   "id": "f4fd92c7",
   "metadata": {},
   "outputs": [
    {
     "name": "stdout",
     "output_type": "stream",
     "text": [
      "{'rashi', 'eva'}\n",
      "{'rashi', 'asla', 'aju', 'eva'}\n",
      "{'asla'}\n",
      "{'asla', 'aju'}\n",
      "copied {'rashi', 'eva', 'asla'}\n",
      "3\n",
      "set()\n"
     ]
    }
   ],
   "source": [
    "s1={\"asla\",\"eva\",\"rashi\"}\n",
    "s2={\"eva\",\"rashi\",\"aju\"}\n",
    "print(s1.intersection(s2))\n",
    "print(s1.union(s2))\n",
    "print(s1.difference(s2))\n",
    "print(s1.symmetric_difference(s2))\n",
    "l=s1.copy()\n",
    "print(\"copied\",l)\n",
    "le=len(s1)\n",
    "print(le)\n",
    "s1.clear()\n",
    "print(s1)"
   ]
  },
  {
   "cell_type": "code",
   "execution_count": 88,
   "id": "64819bdd",
   "metadata": {},
   "outputs": [
    {
     "name": "stdout",
     "output_type": "stream",
     "text": [
      "subset\n"
     ]
    }
   ],
   "source": [
    "s1={\"eva\",\"rashi\",\"aju\",\"asla\"}\n",
    "s2={\"asla\",\"eva\",\"rashi\"}\n",
    "if s2.issubset(s1):\n",
    "    print(\"subset\")\n",
    "else:\n",
    "    print(\"not subset\")"
   ]
  },
  {
   "cell_type": "code",
   "execution_count": 93,
   "id": "9a54b060",
   "metadata": {},
   "outputs": [
    {
     "name": "stdout",
     "output_type": "stream",
     "text": [
      "not disjoint\n"
     ]
    }
   ],
   "source": [
    "s1={\"eva\",\"rashi\",\"aju\",\"asla\"}\n",
    "s2={\"asla\",\"eva\",\"rashi\"}\n",
    "if s2.isdisjoint(s1):\n",
    "    print(\"disjoint\")\n",
    "else:\n",
    "    print(\"not disjoint\")"
   ]
  },
  {
   "cell_type": "code",
   "execution_count": 94,
   "id": "2ab6ca84",
   "metadata": {},
   "outputs": [
    {
     "name": "stdout",
     "output_type": "stream",
     "text": [
      "current dictionary {'key1': 'asla', 'key2': 'eva'}\n",
      "updated dict {'key1': 'asla', 'key2': 'eva', 'key3': 'Rashi'}\n"
     ]
    }
   ],
   "source": [
    "d={\"key1\":\"asla\",\"key2\":\"eva\"}\n",
    "print(\"current dictionary\",d)\n",
    "d[\"key3\"]=\"Rashi\"\n",
    "print(\"updated dict\",d)"
   ]
  },
  {
   "cell_type": "code",
   "execution_count": 97,
   "id": "9ebb33dd",
   "metadata": {},
   "outputs": [
    {
     "name": "stdout",
     "output_type": "stream",
     "text": [
      "18\n"
     ]
    }
   ],
   "source": [
    "d={\"1\":1,\"2\":3,\"3\":6}\n",
    "p=1\n",
    "for i in d:\n",
    "    p=p*d[i]\n",
    "print(p)"
   ]
  },
  {
   "cell_type": "code",
   "execution_count": 2,
   "id": "cfc5eb32",
   "metadata": {},
   "outputs": [
    {
     "name": "stdout",
     "output_type": "stream",
     "text": [
      "[3, 4, 5, 6]\n"
     ]
    }
   ],
   "source": [
    "li=[1,2,3,4,5,6,7,8,9,10]\n",
    "\n",
    "li1=li[2:6]\n",
    "print(li1)"
   ]
  },
  {
   "cell_type": "code",
   "execution_count": null,
   "id": "9b73adae",
   "metadata": {},
   "outputs": [],
   "source": []
  }
 ],
 "metadata": {
  "kernelspec": {
   "display_name": "Python 3 (ipykernel)",
   "language": "python",
   "name": "python3"
  },
  "language_info": {
   "codemirror_mode": {
    "name": "ipython",
    "version": 3
   },
   "file_extension": ".py",
   "mimetype": "text/x-python",
   "name": "python",
   "nbconvert_exporter": "python",
   "pygments_lexer": "ipython3",
   "version": "3.9.12"
  }
 },
 "nbformat": 4,
 "nbformat_minor": 5
}
