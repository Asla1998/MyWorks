{
 "cells": [
  {
   "cell_type": "code",
   "execution_count": 1,
   "id": "cf04e2f0",
   "metadata": {},
   "outputs": [
    {
     "name": "stdout",
     "output_type": "stream",
     "text": [
      "Enter first number:3\n",
      "Enter second number:4\n",
      "sum = 7\n"
     ]
    }
   ],
   "source": [
    "a=int(input(\"Enter first number:\"))\n",
    "b=int(input(\"Enter second number:\"))\n",
    "s=a+b\n",
    "print(\"sum =\",s)"
   ]
  },
  {
   "cell_type": "code",
   "execution_count": 2,
   "id": "53152f81",
   "metadata": {},
   "outputs": [
    {
     "name": "stdout",
     "output_type": "stream",
     "text": [
      "Enter first number:3\n",
      "Enter second number:4\n",
      "Enter third number:5\n",
      "Largest number is  5\n"
     ]
    }
   ],
   "source": [
    "a=int(input(\"Enter first number:\"))\n",
    "b=int(input(\"Enter second number:\"))\n",
    "c=int(input(\"Enter third number:\"))\n",
    "if a>b and a>c:\n",
    "    print(\"Largest number is \",a)\n",
    "elif b>a and b>c:\n",
    "    print(\"Largest number is \",b)\n",
    "else:\n",
    "    print(\"Largest number is \",c)    "
   ]
  },
  {
   "cell_type": "code",
   "execution_count": 3,
   "id": "73c0f8de",
   "metadata": {},
   "outputs": [
    {
     "name": "stdout",
     "output_type": "stream",
     "text": [
      "Enter a number:-4\n",
      "Number is negative\n"
     ]
    }
   ],
   "source": [
    "a=int(input(\"Enter a number:\"))\n",
    "if a==0:\n",
    "    print(\"Number is zero\")\n",
    "elif a>0:\n",
    "    print(\"Number is positive\")\n",
    "else:\n",
    "    print(\"Number is negative\")"
   ]
  },
  {
   "cell_type": "markdown",
   "id": "5bd4c577",
   "metadata": {},
   "source": [
    "a=int(input(\"Enter a number:\"))\n",
    "if a % 2 == 0:\n",
    "    print(\"Number is even\")\n",
    "else:\n",
    "    print(\"Number is odd\")"
   ]
  },
  {
   "cell_type": "code",
   "execution_count": 4,
   "id": "e4b2e1f9",
   "metadata": {},
   "outputs": [
    {
     "name": "stdout",
     "output_type": "stream",
     "text": [
      "enter the marks\n",
      "subject 1:34\n",
      "subject 2:55\n",
      "subject 3:66\n",
      "subject 4:88\n",
      "subject 5:66\n",
      "C\n"
     ]
    }
   ],
   "source": [
    "print(\"enter the marks\")\n",
    "s1=int(input(\"subject 1:\"))\n",
    "s2=int(input(\"subject 2:\"))\n",
    "s3=int(input(\"subject 3:\"))\n",
    "s4=int(input(\"subject 4:\"))\n",
    "s5=int(input(\"subject 5:\"))\n",
    "total=(s1+s2+s3+s4+s5)/5\n",
    "if total>=90:\n",
    "    print(\"A+\")\n",
    "elif total>=80 and total<90:\n",
    "    print(\"A\")\n",
    "elif total>=70 and total<80:\n",
    "    print(\"B\")    \n",
    "elif total>=60 and total<70:\n",
    "    print(\"C\")    \n",
    "elif total>=50 and total<60:\n",
    "    print(\"D\")\n",
    "elif total>=40 and total<50:\n",
    "    print(\"E\")  \n",
    "elif total>=30 and total<40:\n",
    "    print(\"F\")  \n",
    "else:\n",
    "    print(\"failed\")"
   ]
  },
  {
   "cell_type": "code",
   "execution_count": 5,
   "id": "46f4215e",
   "metadata": {},
   "outputs": [
    {
     "name": "stdout",
     "output_type": "stream",
     "text": [
      "enter the marks\n",
      "subject 1:98\n",
      "subject 2:97\n",
      "subject 3:96\n",
      "subject 4:95\n",
      "subject 5:95\n",
      "A+\n"
     ]
    }
   ],
   "source": [
    "  print(\"enter the marks\")\n",
    "s1=int(input(\"subject 1:\"))\n",
    "s2=int(input(\"subject 2:\"))\n",
    "s3=int(input(\"subject 3:\"))\n",
    "s4=int(input(\"subject 4:\"))\n",
    "s5=int(input(\"subject 5:\"))\n",
    "total=(s1+s2+s3+s4+s5)/5\n",
    "if total>=90:\n",
    "    print(\"A+\")\n",
    "elif total>=80 and total<90:\n",
    "    print(\"A\")\n",
    "elif total>=70 and total<80:\n",
    "    print(\"B\")    \n",
    "elif total>=60 and total<70:\n",
    "    print(\"C\")    \n",
    "elif total>=50 and total<60:\n",
    "    print(\"D\")\n",
    "elif total>=40 and total<50:\n",
    "    print(\"E\")  \n",
    "elif total<40:\n",
    "    print(\"failed\")  "
   ]
  },
  {
   "cell_type": "code",
   "execution_count": 6,
   "id": "707d436d",
   "metadata": {},
   "outputs": [
    {
     "name": "stdout",
     "output_type": "stream",
     "text": [
      "Enter the limit10\n",
      "0\n",
      "1\n",
      "1\n",
      "2\n",
      "3\n",
      "5\n",
      "8\n",
      "13\n",
      "21\n",
      "34\n",
      "55\n"
     ]
    }
   ],
   "source": [
    "n=int(input(\"Enter the limit\"))\n",
    "f1=1\n",
    "f2=0\n",
    "print(f2)\n",
    "while n>0:\n",
    "    f=f1+f2\n",
    "    print(f)\n",
    "    f1=f2\n",
    "    f2=f\n",
    "    n=n-1"
   ]
  },
  {
   "cell_type": "code",
   "execution_count": null,
   "id": "ef551edb",
   "metadata": {},
   "outputs": [],
   "source": [
    "n=int(input(\"Enter a number:\"))\n",
    "t=n\n",
    "s=0\n",
    "while n>0:\n",
    "    d=t % 10\n",
    "    s=s+(d*d*d)\n",
    "    t=int(t/10)\n",
    "if n==s:\n",
    "    print(\"number is amstrong\")\n",
    "else:\n",
    "    print(\"Number is not armstrong\")"
   ]
  },
  {
   "cell_type": "code",
   "execution_count": null,
   "id": "0e8a1728",
   "metadata": {},
   "outputs": [],
   "source": [
    "print(\"hi\")\n",
    "n=int(input(\"Enter a number:\"))\n",
    "t=n\n",
    "s=0\n",
    "while n>0:\n",
    "    d=t % 10\n",
    "    s=s+(d*d*d)\n",
    "    t=int(t/10)\n",
    "if n==s:\n",
    "    print(\"number is amstrong\")\n",
    "else:\n",
    "    print(\"Number is not armstrong\")"
   ]
  },
  {
   "cell_type": "markdown",
   "id": "16d3c590",
   "metadata": {},
   "source": [
    "###### \n",
    "#### "
   ]
  }
 ],
 "metadata": {
  "kernelspec": {
   "display_name": "Python 3 (ipykernel)",
   "language": "python",
   "name": "python3"
  },
  "language_info": {
   "codemirror_mode": {
    "name": "ipython",
    "version": 3
   },
   "file_extension": ".py",
   "mimetype": "text/x-python",
   "name": "python",
   "nbconvert_exporter": "python",
   "pygments_lexer": "ipython3",
   "version": "3.9.12"
  }
 },
 "nbformat": 4,
 "nbformat_minor": 5
}
