{
 "cells": [
  {
   "cell_type": "code",
   "execution_count": 6,
   "id": "b6c4da53",
   "metadata": {},
   "outputs": [
    {
     "name": "stdout",
     "output_type": "stream",
     "text": [
      "Vehicle\n",
      "Vehicle\n",
      "Bus\n",
      "here is colour\n",
      "Red\n",
      "here is milage\n",
      "milage = 30\n",
      "milage after = 40\n",
      "Capcity 50\n",
      "Capcity 30\n",
      "True\n",
      "<class '__main__.Vehicle'>\n"
     ]
    }
   ],
   "source": [
    "class Vehicle:\n",
    "    def __init__(self):\n",
    "        print(\"Vehicle\")\n",
    "    def colour(self):\n",
    "        print(\"here is colour\")\n",
    "    def milage(self,a):\n",
    "        self.a=a\n",
    "        self.b=self.a+10\n",
    "        print(\"here is milage\")\n",
    "        \n",
    "class Bus(Vehicle):\n",
    "    def __init__(self):\n",
    "        super().__init__()\n",
    "        print(\"Bus\")\n",
    "    def colour(self):\n",
    "        super().colour()\n",
    "        print(\"Red\")\n",
    "    def milage(self,a):\n",
    "        super().milage(a)\n",
    "        print(\"milage =\",a)\n",
    "        print(\"milage after =\",self.b)\n",
    "    def seat_capacity(self,c=50):\n",
    "        print(\"Capcity\",c)\n",
    "        \n",
    "        \n",
    "school_bus=Vehicle()        \n",
    "o=Bus()\n",
    "o.colour()\n",
    "o.milage(30)\n",
    "o.seat_capacity()\n",
    "o.seat_capacity(30)\n",
    "print(isinstance(school_bus,Vehicle))\n",
    "print(type(school_bus))"
   ]
  },
  {
   "cell_type": "code",
   "execution_count": 15,
   "id": "47d0756d",
   "metadata": {},
   "outputs": [
    {
     "name": "stdout",
     "output_type": "stream",
     "text": [
      "second element  2\n",
      "an error occurred\n"
     ]
    }
   ],
   "source": [
    "a=[1,2,3]\n",
    "try:\n",
    "    print(\"second element \",a[1])\n",
    "    print(\"fourth element \",a[3])\n",
    "except:\n",
    "    print(\"an error occurred\")"
   ]
  },
  {
   "cell_type": "code",
   "execution_count": 30,
   "id": "f2853344",
   "metadata": {},
   "outputs": [
    {
     "name": "stdout",
     "output_type": "stream",
     "text": [
      "a nameerror occurred\n"
     ]
    }
   ],
   "source": [
    "def fun(a):\n",
    "    if a < 4:\n",
    "        b=a/(a-3)\n",
    "    print(\"value of b = \",b) \n",
    "try:\n",
    "    fun(3)\n",
    "    fun(5)\n",
    "except ZeroDivisionError:\n",
    "    print(\"a ZeroDivisionError occurred\")\n",
    "except NameError:\n",
    "    print(\"a nameerror occurred\")"
   ]
  },
  {
   "cell_type": "code",
   "execution_count": 10,
   "id": "60733b37",
   "metadata": {},
   "outputs": [
    {
     "name": "stdout",
     "output_type": "stream",
     "text": [
      "An exception\n"
     ]
    },
    {
     "ename": "NameError",
     "evalue": "Hi there",
     "output_type": "error",
     "traceback": [
      "\u001b[1;31m---------------------------------------------------------------------------\u001b[0m",
      "\u001b[1;31mNameError\u001b[0m                                 Traceback (most recent call last)",
      "Input \u001b[1;32mIn [10]\u001b[0m, in \u001b[0;36m<cell line: 1>\u001b[1;34m()\u001b[0m\n\u001b[0;32m      1\u001b[0m \u001b[38;5;28;01mtry\u001b[39;00m: \n\u001b[1;32m----> 2\u001b[0m     \u001b[38;5;28;01mraise\u001b[39;00m \u001b[38;5;167;01mNameError\u001b[39;00m(\u001b[38;5;124m\"\u001b[39m\u001b[38;5;124mHi there\u001b[39m\u001b[38;5;124m\"\u001b[39m)  \n\u001b[0;32m      3\u001b[0m \u001b[38;5;28;01mexcept\u001b[39;00m \u001b[38;5;167;01mNameError\u001b[39;00m:\n\u001b[0;32m      4\u001b[0m     \u001b[38;5;28mprint\u001b[39m (\u001b[38;5;124m\"\u001b[39m\u001b[38;5;124mAn exception\u001b[39m\u001b[38;5;124m\"\u001b[39m)\n",
      "\u001b[1;31mNameError\u001b[0m: Hi there"
     ]
    }
   ],
   "source": [
    "\n",
    "  \n",
    "try: \n",
    "    raise NameError(\"Hi there\")  \n",
    "except NameError:\n",
    "    print (\"An exception\")\n",
    "    raise "
   ]
  },
  {
   "cell_type": "code",
   "execution_count": 11,
   "id": "c3b09a7d",
   "metadata": {},
   "outputs": [
    {
     "name": "stdout",
     "output_type": "stream",
     "text": [
      "hi there.........\n",
      "there is no attribute\n"
     ]
    }
   ],
   "source": [
    "class Happy:\n",
    "    def __init__(self):\n",
    "        self.a=\"hi there.........\"\n",
    "o=Happy()\n",
    "try:\n",
    "    print(o.a)\n",
    "    print(o.b)\n",
    "except AttributeError:\n",
    "    print(\"there is no attribute\")"
   ]
  },
  {
   "cell_type": "code",
   "execution_count": 13,
   "id": "23838193",
   "metadata": {},
   "outputs": [
    {
     "name": "stdout",
     "output_type": "stream",
     "text": [
      "1\n"
     ]
    },
    {
     "ename": "KeyError",
     "evalue": "'role'",
     "output_type": "error",
     "traceback": [
      "\u001b[1;31m---------------------------------------------------------------------------\u001b[0m",
      "\u001b[1;31mKeyError\u001b[0m                                  Traceback (most recent call last)",
      "Input \u001b[1;32mIn [13]\u001b[0m, in \u001b[0;36m<cell line: 4>\u001b[1;34m()\u001b[0m\n\u001b[0;32m      2\u001b[0m my_id\u001b[38;5;241m=\u001b[39mmy_list[\u001b[38;5;124m'\u001b[39m\u001b[38;5;124mid\u001b[39m\u001b[38;5;124m'\u001b[39m]\n\u001b[0;32m      3\u001b[0m \u001b[38;5;28mprint\u001b[39m(my_id)\n\u001b[1;32m----> 4\u001b[0m my_role\u001b[38;5;241m=\u001b[39m\u001b[43mmy_list\u001b[49m\u001b[43m[\u001b[49m\u001b[38;5;124;43m'\u001b[39;49m\u001b[38;5;124;43mrole\u001b[39;49m\u001b[38;5;124;43m'\u001b[39;49m\u001b[43m]\u001b[49m\n\u001b[0;32m      5\u001b[0m \u001b[38;5;28mprint\u001b[39m(my_role)\n",
      "\u001b[1;31mKeyError\u001b[0m: 'role'"
     ]
    }
   ],
   "source": [
    "my_list={\"name\":\"asla\",\"id\":1}\n",
    "my_id=my_list['id']\n",
    "print(my_id)\n",
    "my_role=my_list['role']\n",
    "print(my_role)"
   ]
  },
  {
   "cell_type": "code",
   "execution_count": 16,
   "id": "33eedd75",
   "metadata": {},
   "outputs": [
    {
     "name": "stdout",
     "output_type": "stream",
     "text": [
      "second element  2\n"
     ]
    },
    {
     "ename": "IndexError",
     "evalue": "list index out of range",
     "output_type": "error",
     "traceback": [
      "\u001b[1;31m---------------------------------------------------------------------------\u001b[0m",
      "\u001b[1;31mIndexError\u001b[0m                                Traceback (most recent call last)",
      "Input \u001b[1;32mIn [16]\u001b[0m, in \u001b[0;36m<cell line: 3>\u001b[1;34m()\u001b[0m\n\u001b[0;32m      1\u001b[0m a\u001b[38;5;241m=\u001b[39m[\u001b[38;5;241m1\u001b[39m,\u001b[38;5;241m2\u001b[39m,\u001b[38;5;241m3\u001b[39m]\n\u001b[0;32m      2\u001b[0m \u001b[38;5;28mprint\u001b[39m(\u001b[38;5;124m\"\u001b[39m\u001b[38;5;124msecond element \u001b[39m\u001b[38;5;124m\"\u001b[39m,a[\u001b[38;5;241m1\u001b[39m])\n\u001b[1;32m----> 3\u001b[0m \u001b[38;5;28mprint\u001b[39m(\u001b[38;5;124m\"\u001b[39m\u001b[38;5;124mfourth element \u001b[39m\u001b[38;5;124m\"\u001b[39m,\u001b[43ma\u001b[49m\u001b[43m[\u001b[49m\u001b[38;5;241;43m3\u001b[39;49m\u001b[43m]\u001b[49m)\n",
      "\u001b[1;31mIndexError\u001b[0m: list index out of range"
     ]
    }
   ],
   "source": [
    "a=[1,2,3]\n",
    "print(\"second element \",a[1])\n",
    "print(\"fourth element \",a[3])\n"
   ]
  },
  {
   "cell_type": "code",
   "execution_count": 34,
   "id": "883c85dc",
   "metadata": {},
   "outputs": [],
   "source": [
    "def error(r):\n",
    "    try:\n",
    "        if r < 100:\n",
    "            print(\"interest rate is lower than 100\")\n",
    "    except NameError:\n",
    "        print(\"interest rate is greater than 100\")\n",
    "        \n",
    "        \n",
    "#     error(50)\n",
    "error(120)        "
   ]
  },
  {
   "cell_type": "code",
   "execution_count": 26,
   "id": "5956d156",
   "metadata": {},
   "outputs": [
    {
     "name": "stdout",
     "output_type": "stream",
     "text": [
      "interest rate is lower than 100\n"
     ]
    }
   ],
   "source": [
    "def error(r):\n",
    "    if r < 100:\n",
    "        print(\"interest rate is lower than 100\")\n",
    "        \n",
    "error(10)        "
   ]
  },
  {
   "cell_type": "code",
   "execution_count": null,
   "id": "5958f7e9",
   "metadata": {},
   "outputs": [],
   "source": []
  }
 ],
 "metadata": {
  "kernelspec": {
   "display_name": "Python 3 (ipykernel)",
   "language": "python",
   "name": "python3"
  },
  "language_info": {
   "codemirror_mode": {
    "name": "ipython",
    "version": 3
   },
   "file_extension": ".py",
   "mimetype": "text/x-python",
   "name": "python",
   "nbconvert_exporter": "python",
   "pygments_lexer": "ipython3",
   "version": "3.9.12"
  }
 },
 "nbformat": 4,
 "nbformat_minor": 5
}
