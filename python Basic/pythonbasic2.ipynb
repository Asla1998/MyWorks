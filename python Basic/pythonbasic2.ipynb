{
 "cells": [
  {
   "cell_type": "code",
   "execution_count": 1,
   "id": "d539855f",
   "metadata": {},
   "outputs": [
    {
     "name": "stdout",
     "output_type": "stream",
     "text": [
      "enter the limit:5\n",
      "1\n",
      "1\n",
      "2\n",
      "3\n",
      "5\n"
     ]
    }
   ],
   "source": [
    "num=int(input(\"enter the limit:\"))\n",
    "f1=1\n",
    "f2=0\n",
    "while num>0:\n",
    "    f=f1+f2\n",
    "    print(f)\n",
    "    f1=f2\n",
    "    f2=f\n",
    "    num=num-1"
   ]
  },
  {
   "cell_type": "code",
   "execution_count": 4,
   "id": "b74d29ce",
   "metadata": {},
   "outputs": [
    {
     "name": "stdout",
     "output_type": "stream",
     "text": [
      "enter a number12\n",
      "Number is not armstrong\n"
     ]
    }
   ],
   "source": [
    "num=int(input(\"enter a number\"))\n",
    "s=0\n",
    "temp=num\n",
    "while temp!=0:\n",
    "    d=temp % 10\n",
    "    s=s+(d*d*d)\n",
    "    temp=temp//10\n",
    "if num==s:\n",
    "    print(\"Number is armstrong\")\n",
    "else:\n",
    "    print(\"Number is not armstrong\")"
   ]
  },
  {
   "cell_type": "code",
   "execution_count": 9,
   "id": "d67122c5",
   "metadata": {},
   "outputs": [
    {
     "name": "stdout",
     "output_type": "stream",
     "text": [
      "Enter a number1\n",
      "number is neither a prime nor composite\n"
     ]
    }
   ],
   "source": [
    "num=int(input(\"Enter a number\"))\n",
    "flag=0\n",
    "for i in range(2,num):\n",
    "    if num % i ==0:\n",
    "        flag=1\n",
    "        break\n",
    "if num==1:\n",
    "    print(\"number is neither a prime nor composite\")\n",
    "elif flag==0:\n",
    "    print(\"Number is prime\")\n",
    "else:\n",
    "    print(\"number is not prime\")\n",
    "        "
   ]
  },
  {
   "cell_type": "markdown",
   "id": "e2f2c436",
   "metadata": {},
   "source": [
    "\n"
   ]
  },
  {
   "cell_type": "code",
   "execution_count": 11,
   "id": "686583c8",
   "metadata": {},
   "outputs": [
    {
     "name": "stdout",
     "output_type": "stream",
     "text": [
      "enter the limit\n",
      "3\n",
      "factorial of 3 is 6\n"
     ]
    }
   ],
   "source": [
    "print(\"enter the limit\")\n",
    "num=int(input())\n",
    "f=1\n",
    "if num<0:\n",
    "    print(\"not exist\")\n",
    "elif num==0:\n",
    "    print(\"factorial is 1\")\n",
    "else:\n",
    "    for i in range(1,num+1):\n",
    "        f=f*i\n",
    "    print(\"factorial of\",num,\"is\",f)\n",
    "        "
   ]
  },
  {
   "cell_type": "code",
   "execution_count": 64,
   "id": "f4fc7eb2",
   "metadata": {},
   "outputs": [
    {
     "name": "stdout",
     "output_type": "stream",
     "text": [
      "Aslaha\n",
      "Abi\n",
      "sasd\n",
      "Abi\n",
      "ABI\n"
     ]
    },
    {
     "data": {
      "text/plain": [
       "str"
      ]
     },
     "execution_count": 64,
     "metadata": {},
     "output_type": "execute_result"
    }
   ],
   "source": [
    "s=\"Aslaha\"\n",
    "st=\"abi\"\n",
    "d=\"SASD\"\n",
    "print(s)\n",
    "print(st.capitalize())\n",
    "print(d.casefold())\n",
    "print(st.title())\n",
    "print(st.upper())\n",
    "type(s)"
   ]
  },
  {
   "cell_type": "code",
   "execution_count": 69,
   "id": "e61a03f8",
   "metadata": {},
   "outputs": [
    {
     "name": "stdout",
     "output_type": "stream",
     "text": [
      "['asla', 'eva', 'rashi']\n",
      "1\n",
      "[]\n",
      "['asla', 'eva', 'rashi', 'yuma']\n",
      "['asla', 'eva', 'Rayan', 'rashi', 'yuma']\n",
      "['asla', 'eva', 'Rayan', 'rashi', 'yuma', 1, 3, 1, 6, 1]\n",
      "3\n",
      "10\n",
      "asla\n",
      "None\n",
      "[]\n"
     ]
    },
    {
     "data": {
      "text/plain": [
       "list"
      ]
     },
     "execution_count": 69,
     "metadata": {},
     "output_type": "execute_result"
    }
   ],
   "source": [
    "l1=[\"asla\",\"eva\",\"rashi\"]\n",
    "l2=[1,3,1,6,1]\n",
    "l3=[5.0,6.8,7.3,5.7]\n",
    "l4=[\"asla\",5.6,7,\"eva\"]\n",
    "l5=[]\n",
    "print(l1)\n",
    "print(l2[2])\n",
    "print(l5)\n",
    "l1.append(\"yuma\")\n",
    "print(l1)\n",
    "l1.insert(2,\"Rayan\")\n",
    "print(l1)\n",
    "l1.extend(l2)\n",
    "print(l1)\n",
    "print(l2.count(1))\n",
    "print(len(l1))\n",
    "print(l1.pop(0))\n",
    "print(l1.clear())\n",
    "print(l1)\n",
    "type(l1)"
   ]
  },
  {
   "cell_type": "code",
   "execution_count": 73,
   "id": "c661d0f0",
   "metadata": {},
   "outputs": [
    {
     "name": "stdout",
     "output_type": "stream",
     "text": [
      "{'rashi', 'asla', 'eva'}\n",
      "{'rashi'}\n",
      "{'asla', 'eva'}\n",
      "{1, 3, 'asla', 'eva', 6, 'rashi'}\n",
      "set()\n",
      "{'rashi', 'ana', 'asla', 'eva'}\n",
      "set()\n"
     ]
    },
    {
     "data": {
      "text/plain": [
       "set"
      ]
     },
     "execution_count": 73,
     "metadata": {},
     "output_type": "execute_result"
    }
   ],
   "source": [
    "s1={\"asla\",\"eva\",\"rashi\"}\n",
    "s2={1,3,6}\n",
    "s3={5.0,6.8,7.3,5.7}\n",
    "s4={\"asla\",5.6,7,\"eva\"}\n",
    "s5=set()\n",
    "print(s1)\n",
    "print(s1.difference(s4))\n",
    "print(s1.intersection(s4))\n",
    "print(s1.union(s2))\n",
    "print(s5)\n",
    "s1.add(\"ana\")\n",
    "print(s1)\n",
    "s1.clear()\n",
    "print(s1)\n",
    "type(s1)\n"
   ]
  },
  {
   "cell_type": "code",
   "execution_count": 59,
   "id": "d194edd1",
   "metadata": {},
   "outputs": [
    {
     "name": "stdout",
     "output_type": "stream",
     "text": [
      "('asla', 'eva', 'rashi')\n",
      "3\n",
      "()\n",
      "4\n",
      "2\n",
      "8\n"
     ]
    },
    {
     "data": {
      "text/plain": [
       "tuple"
      ]
     },
     "execution_count": 59,
     "metadata": {},
     "output_type": "execute_result"
    }
   ],
   "source": [
    "t1=(\"asla\",\"eva\",\"rashi\")\n",
    "t2=(1,3,6,6,9,8,6,9,6)\n",
    "t3=(5.0,6.8,7.3,5.7)\n",
    "t4=(\"asla\",5.6,7,\"eva\")\n",
    "t5=()\n",
    "print(t1)\n",
    "print(t2[1])\n",
    "print(t5)\n",
    "print(t2.count(6))\n",
    "print(t2.index(6))\n",
    "print(t2.index(6,8))\n",
    "type(t1)"
   ]
  },
  {
   "cell_type": "code",
   "execution_count": 34,
   "id": "ec6f9b9d",
   "metadata": {},
   "outputs": [
    {
     "name": "stdout",
     "output_type": "stream",
     "text": [
      "{1: 'asla', 2: 'rashi', 3: 'eva'}\n",
      "eva\n",
      "ball\n",
      "{}\n"
     ]
    },
    {
     "data": {
      "text/plain": [
       "dict"
      ]
     },
     "execution_count": 34,
     "metadata": {},
     "output_type": "execute_result"
    }
   ],
   "source": [
    "d1={1:\"asla\",2:\"rashi\",3:\"eva\"}\n",
    "d2={}\n",
    "d3={\"a\":\"aysha\",\"b\":\"ball\",\"e\":\"elephant\"}\n",
    "print(d1)\n",
    "print(d1[3])\n",
    "print(d3[\"b\"])\n",
    "print(d2)\n",
    "type(d1)"
   ]
  },
  {
   "cell_type": "code",
   "execution_count": null,
   "id": "42f92e97",
   "metadata": {},
   "outputs": [],
   "source": []
  }
 ],
 "metadata": {
  "kernelspec": {
   "display_name": "Python 3 (ipykernel)",
   "language": "python",
   "name": "python3"
  },
  "language_info": {
   "codemirror_mode": {
    "name": "ipython",
    "version": 3
   },
   "file_extension": ".py",
   "mimetype": "text/x-python",
   "name": "python",
   "nbconvert_exporter": "python",
   "pygments_lexer": "ipython3",
   "version": "3.9.12"
  }
 },
 "nbformat": 4,
 "nbformat_minor": 5
}
