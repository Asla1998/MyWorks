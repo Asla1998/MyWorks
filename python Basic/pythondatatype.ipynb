{
 "cells": [
  {
   "cell_type": "code",
   "execution_count": 3,
   "id": "46833bae",
   "metadata": {},
   "outputs": [
    {
     "name": "stdout",
     "output_type": "stream",
     "text": [
      "(1, 2, 3, 4, 5)\n",
      "(6, 7, 8, 9, 10)\n"
     ]
    }
   ],
   "source": [
    "tp=(1,2,3,4,5,6,7,8,9,10)\n",
    "\n",
    "tp1=tp[:5]\n",
    "\n",
    "tp2=tp[5:]\n",
    "\n",
    "print(tp1)\n",
    "\n",
    "print(tp2)"
   ]
  },
  {
   "cell_type": "code",
   "execution_count": 29,
   "id": "bcbfef16",
   "metadata": {},
   "outputs": [
    {
     "name": "stdout",
     "output_type": "stream",
     "text": [
      "enter string:ghfbb\n",
      "No\n"
     ]
    }
   ],
   "source": [
    "n=input(\"enter string:\")  \n",
    "if(n == 'yes' or n=='Yes' or n=='YES'):\n",
    "    print('Yes')\n",
    "else:\n",
    "    print('No')"
   ]
  },
  {
   "cell_type": "code",
   "execution_count": 28,
   "id": "4f1cc8b8",
   "metadata": {},
   "outputs": [
    {
     "name": "stdout",
     "output_type": "stream",
     "text": [
      "(2, 4, 6, 8, 10)\n"
     ]
    }
   ],
   "source": [
    "tp= (1,2,3,4,5,6,7,8,9,10)\n",
    "tpl = tuple(filter(lambda x : x%2==0,tpl))  \n",
    "                                            \n",
    "print(tpl1)"
   ]
  },
  {
   "cell_type": "code",
   "execution_count": 33,
   "id": "a570c788",
   "metadata": {},
   "outputs": [
    {
     "name": "stdout",
     "output_type": "stream",
     "text": [
      "[2, 4, 6, 8, 10]\n"
     ]
    }
   ],
   "source": [
    "li=[1,2,3,4,5,6,7,8,9,10]\n",
    "li1=list(filter(lambda x: x%2==0,li))\n",
    "print(li1)"
   ]
  },
  {
   "cell_type": "code",
   "execution_count": 31,
   "id": "0a6c5380",
   "metadata": {},
   "outputs": [
    {
     "name": "stdout",
     "output_type": "stream",
     "text": [
      "[1, 4, 9, 16, 25, 36, 49, 64, 81, 100]\n"
     ]
    }
   ],
   "source": [
    "li=[1,2,3,4,5,6,7,8,9,10]\n",
    "li1=list(map(lambda x: x*x,li))\n",
    "print(li1)"
   ]
  },
  {
   "cell_type": "code",
   "execution_count": 32,
   "id": "07e7a825",
   "metadata": {},
   "outputs": [
    {
     "name": "stdout",
     "output_type": "stream",
     "text": [
      "[1, 4, 9, 16, 25, 36, 49, 64, 81, 100]\n",
      "[4, 16, 36, 64, 100]\n"
     ]
    }
   ],
   "source": [
    "li=[1,2,3,4,5,6,7,8,9,10]\n",
    "li1=list(map(lambda x: x*x,li))\n",
    "print(li1)\n",
    "li2=list(filter(lambda x: x%2==0,li1))\n",
    "print(li2)\n"
   ]
  },
  {
   "cell_type": "code",
   "execution_count": 36,
   "id": "ccbcfc0c",
   "metadata": {},
   "outputs": [
    {
     "name": "stdout",
     "output_type": "stream",
     "text": [
      "[1, 2, 3, 4, 5, 6, 7, 8, 9, 10, 11, 12, 13, 14, 15, 16, 17, 18, 19, 20]\n",
      "[1, 4, 9, 16, 25, 36, 49, 64, 81, 100, 121, 144, 169, 196, 225, 256, 289, 324, 361, 400]\n"
     ]
    }
   ],
   "source": [
    "li=list(range(1,21))\n",
    "print(li)\n",
    "li1=list(map(lambda x: x*x,li))\n",
    "print(li1)"
   ]
  },
  {
   "cell_type": "code",
   "execution_count": 37,
   "id": "5900b815",
   "metadata": {},
   "outputs": [
    {
     "name": "stdout",
     "output_type": "stream",
     "text": [
      "[1, 2, 3, 4, 5, 6, 7, 8, 9, 10, 11, 12, 13, 14, 15, 16, 17, 18, 19, 20]\n",
      "[2, 4, 6, 8, 10, 12, 14, 16, 18, 20]\n"
     ]
    }
   ],
   "source": [
    "li=list(range(1,21))\n",
    "print(li)\n",
    "li1=list(filter(lambda x: x%2==0,li))\n",
    "print(li1)"
   ]
  },
  {
   "cell_type": "code",
   "execution_count": 40,
   "id": "cc360655",
   "metadata": {},
   "outputs": [],
   "source": [
    "x= [[\"UK\", \"LONDON\", \"EUROPE\"],[\"US\", \"WASHINGTON\", \"AMERICA\"],[\"EG\", \"CAIRO\", \"AFRICA\"],[\"JP\",\"TOKYO\",\"ASIA\"]]\n",
    "\n",
    "countries = []\n",
    "for country, cityname, continent in x:\n",
    "    countries.append(country) \n",
    "    "
   ]
  },
  {
   "cell_type": "code",
   "execution_count": 42,
   "id": "4984bb85",
   "metadata": {},
   "outputs": [],
   "source": [
    "li=[1,2,3,4,5,6,7,8,9,10]\n",
    "\n",
    "li1=li[2:6]"
   ]
  },
  {
   "cell_type": "code",
   "execution_count": null,
   "id": "f6c7b51f",
   "metadata": {},
   "outputs": [],
   "source": []
  }
 ],
 "metadata": {
  "kernelspec": {
   "display_name": "Python 3 (ipykernel)",
   "language": "python",
   "name": "python3"
  },
  "language_info": {
   "codemirror_mode": {
    "name": "ipython",
    "version": 3
   },
   "file_extension": ".py",
   "mimetype": "text/x-python",
   "name": "python",
   "nbconvert_exporter": "python",
   "pygments_lexer": "ipython3",
   "version": "3.9.12"
  }
 },
 "nbformat": 4,
 "nbformat_minor": 5
}
